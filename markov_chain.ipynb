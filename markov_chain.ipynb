{
 "cells": [
  {
   "cell_type": "code",
   "execution_count": 1,
   "metadata": {},
   "outputs": [],
   "source": [
    "import requests\n",
    "import random\n",
    "import numpy as np"
   ]
  },
  {
   "cell_type": "code",
   "execution_count": 2,
   "metadata": {},
   "outputs": [],
   "source": [
    "url = r\"https://cb.lk/speech\""
   ]
  },
  {
   "cell_type": "code",
   "execution_count": 3,
   "metadata": {},
   "outputs": [],
   "source": [
    "result = requests.get(url)"
   ]
  },
  {
   "cell_type": "code",
   "execution_count": 4,
   "metadata": {},
   "outputs": [],
   "source": [
    "text = result.text"
   ]
  },
  {
   "cell_type": "code",
   "execution_count": 5,
   "metadata": {},
   "outputs": [],
   "source": [
    "seq = text.split()"
   ]
  },
  {
   "cell_type": "code",
   "execution_count": 6,
   "metadata": {},
   "outputs": [
    {
     "data": {
      "text/plain": [
       "293586"
      ]
     },
     "execution_count": 6,
     "metadata": {},
     "output_type": "execute_result"
    }
   ],
   "source": [
    "len(seq)"
   ]
  },
  {
   "cell_type": "code",
   "execution_count": 7,
   "metadata": {},
   "outputs": [],
   "source": [
    "def make_pairs(seq):\n",
    "    for i in range(len(seq)-1):\n",
    "        yield (seq[i], seq[i+1])\n",
    "        \n",
    "pairs = make_pairs(seq)"
   ]
  },
  {
   "cell_type": "code",
   "execution_count": 8,
   "metadata": {},
   "outputs": [],
   "source": [
    "word_dict ={}"
   ]
  },
  {
   "cell_type": "code",
   "execution_count": 9,
   "metadata": {},
   "outputs": [],
   "source": [
    "for word_1,word_2 in pairs:\n",
    "    if word_1 in word_dict.keys():\n",
    "        word_dict[word_1].append(word_2)\n",
    "    else:\n",
    "        word_dict[word_1] = [word_2]"
   ]
  },
  {
   "cell_type": "code",
   "execution_count": 10,
   "metadata": {},
   "outputs": [],
   "source": [
    "first_word = np.random.choice(seq)\n",
    "\n",
    "while first_word.islower():\n",
    "    first_word = np.random.choice(seq)\n",
    "    \n",
    "chain = [first_word]\n",
    "\n",
    "n_words = 5000\n",
    "\n",
    "for i in range(n_words):\n",
    "    chain.append(np.random.choice(word_dict[chain[-1]]))"
   ]
  },
  {
   "cell_type": "code",
   "execution_count": 11,
   "metadata": {},
   "outputs": [
    {
     "name": "stdout",
     "output_type": "stream",
     "text": [
      "Once the first targets and I spent on the Almighty God has provided with an output side, when would not be a great emphasis on the Annual Report of the outcomes are subsequently trained under the world. I believe that Yoga ... 1-9-2-2 . But the poor citizens of my teacher’s contribution. When the 21st June 1975 to be disheartened. I hope that they needed for your entire world. Cricket World Cup on during elections, during the coffers of maritime trading regime of Jammu and simplifying our relations. We will preserve it is possible and given a country is true that people of the entire situation has given any bank accounts or not? Whether it should be a thing. I believe that is the leadership to enhance our defence equipment continues to do need to exhibit your visit of hope, for discussing this powerful so in a great leaders, including the unique place Varnagarh was formed. We are doing this consent for lower ranks? Someone talks of our birth to any country At the grounds. So, we are defining partnership with Shrimad Rajchandra Ji. Therefore, the aspirations of the loans. While serving defence and Skill India, do everything is laid my time-table. Sometimes, small span of Mysore has forged – where every women, be embedded as much more from the respective efforts to the key arteries of time. We have always found a wonderful partnership between fire crackers. I thought of the centre before we have decided on the mighty rivers. The experience and one main reason behind the private institutions including several new government has been taken a trillion US $ 200,000 people of 50%. Over time, an influence. He should we need to achieve 10.1 Km per annum and nurture, not exist right direction. Brothers and Prime Minister Abbott`s invitation and understanding of our scientists of organized from their close friend circle? And despite a philosophy of a meeting of Babujon Gaffurov’s masterwork on it, would be saved from Rajya Sabha Monseigneur Sebastian Vadakumpadan PM MODI unveiling of our partnership in India, seek each person from his vote and our targeted an bank helped train 50,000 Africans are taking yourself from neighbouring countries do it, and the country. The President, in India with you. #DELIMITER# 25 12 ranks of great platform to strengthen our steps forward. Importance of Indian Ocean region. This is why owing the level and empowerment and move forward. If this constant touch. We will represent the childhood of unveiling of heaven, Adam came together we also not been living with you see that is vital energy production. But what can get a compilation of the Red Fort is full range of modern science with compassion, skills related developments is not wealth through your excellent work. But in this as well. Accident must proactively move forward the sons and consultants who are smoke of the work for including Belgium, to bring us get मोक्ष (moksha)! We all these letters through the month we have elected representatives of Mann Ki Baat, but to city of UPA first, I assure this direction of human dignity. Today, we are moving forward to flourish and interests, the nation of your friends. We will benefit transfer. Previous government officers to discuss cleanliness. The summits to be provision of their dream once again. He continued support and improvement in the first row among these people? About four crore Indians; all innovators to interact with Mahatma Gandhi in poverty. To me, the point of Afghans for 2017-19. India campaign called Sagarmala; • comprehensive mass momentum, which has created an individual, there should become a new benchmarks of renewable capacity building, or the free access of my government and reaches out of the Prasadam (food offered to the hub of India where decisive steps into privilege. Thank you feel, the citizens. Today, will they had the designs in our cities and Meghalaya to these results of May be tense. I stand together as yet, get certain work with Canada. I am sure all should be your various parts of two teams having nearly doubled in different disciplines as the inflation and prosperity Afghanistan. We will be a short span of the North-East. I still in conflicts. In order to make India that children receive the rainwater could be efficiency overnight. We have received quite a social media, I truly view, we have influenced by the efforts of your challenges, there is fulfilling this country forward. I will be at a viral all the same time, India that of water remain; where we are capable bankers have been named “Shouryanjali” had an ordinance. Tomorrow, on Climate change, reconciliation and Malaysia were the governments are predictable. We have laid down as Defence University in the guarantee for becoming something. When you some of Mahatma Gandhi, freed the relatively fewer. Yet, such facts are being the same importance. We are eradicating poverty, we find out his life for India is our dialogue, which India had shown that are introducing important to Agra transmission line between nations. It pioneered and assert the country had given before 26th January 2016. Industry and they find an important thing in those kitchens! Just look forward to accessing health was decided that a mass movement. I wish me. On this sort of Indians. We are now! In this issue. There was surrounded by yourselves. We can take care in India. More than it covers goods such effort. Thank you the bottom. A majority of use a singer whose only the branch of mighty police force - which India and the stress on marine wealth for All one area of the Wembley. Even today has worked in its strategic partnership with Jayapur. I spoke at the first “Call to improve the Motor Vehicles Agreement and selfless service remains weak, the region with lesser tax. He never made the path of adequate financial system. This will get votes in 2016, India amongst almost equal weight. If there is the eight maritime nations should be incomplete without a continent bustling with them, have a broad range of previous government. Guided by these schemes covering diverse as your great country. You can say in the flow away, it a zero balance. This also benefit is Deregulation. Today’s agreement on time when I compliment our societies. We are instituting a debt relief and every child and investment will you got skill, talent, enterprise and thought. So, I am sure that you have travelled to see this year. Customers can be able to repeat, the foreign policy. Today, there are sending me realize our governance; and, when I am sure that whenever they save crores of the protection of belonging. Kannur centre before on my colleagues of gas till date. Recently, the security for girls. We can import a serious nature of over 7 crore people can strengthen security challenges. And, it or a vibrant rural population is going beyond the Barracuda into the radio in every citizen has completed all you ever retreat program called up of almost on a place on the world. Cricket Team. They are framing the damage to the country? How can match is around us. Even if you the world being spread. I thanked Prime Minister Charles Michel have generations of 100 training in such energy, and technology upgradation, improvement in the share with internal advice and regain the changing the FDI destination. Thus, just to the entire system for our societies. Friends, Our leadership and we can be happy that railway platform and defeat Diabetes which has been applauded for India Mann Ki Moon. They were brought regions with your home. In the country stronger voice and our country. Drugs destroy a fear will you Mr. Kim Young-Suk who we don’t know this region. India programme. And, in life for our youth power plant is still needs to glorify terrorists. Where it escapes our seas forged 2300 years the cultural heritage and these programmes, large sections of paper very impressive. And, in the world. Together, our engagement with mexican president obama Today, it does not the personal issues, the Central Government to it. And I will see so that I especially for their safety net through an all-time high quality scientific, engineering services. I also believe that to the great strategic communication on the solid platform to convert ideas and global urban and Insurance. We should also provides skilling India's permanent membership of Korea and more to launch and economic and Sri Lanka`s largest industrial and longing, or acquire knowledge, your constant effort to markets; and, additional momentum building and shies away from our connectivity between growth,development, human development. I am particularly among sheep not make it is going to do they have done – the innovative methods to China, filled with water does not undertaken greater coordination on an hour or a Technology in your exams. My dear farmer brother has signed. It is enormous. There are able to the poor, vulnerable, farmers, the biggest thing is yet could not to your warm welcome you are. And, research and strives for FDI. And therefore fitting tribute to British icon and Cooperation. Security Act”. During 2015-16, this globalised world. What can assure the clutches of Saint Alphonsa, who had received more to be computerised. Technology and again, my personal life? A little difficult. Since childhood I assure you must try to take pride of One in turn to commerce; From the occasion of start of this did not be operated he made here generations ago. This should start thinking and settle down and esteemed delegates. On this world continues to provide leadership started showing me return that there are up by several times as one to scale has become stronger. Yet, despite a poor - more than 70% of delivery. We are examples coming to change issues, including its diversity and the opportune moment, when they are putting more than 50% in Mongolia’s rich natural beauty and its success. Our economic integration with Indian Ocean Region is a plant, and technology, space assets for early conclusion Mr. Speaker, Strong as much as a digital age through his country form the inspiration. Army soldiers keeping the solidarity for innovation is given by 2022, but even after consultation, will enjoy their country and it is pressing, our societies, our societies globally. Last time many sources. It is hard work with just a very well. Our campaign called ‘dead money’ and create better connectivity to resolve and fulfill our collective responsibility. When its Security Council for agricultural sector and send into a huge potential for the demographic dividend which everyone and technology and opportunities, but you remember! Tomorrow is the African countries. New Age India. Our commitment of heavy loss-making units with daughter of Cooperative Federalism, when policies which trade, security in meeting you a Central Asia. And I admit the Indian newspapers. In recent incidents of trust. This is very reason, I didn't launch a bridge the rural people. With this sentiment of the Navies from this year I am fair would like to move conferences on the long the potential of our soldiers did not do it. I am confident that we make sure that are the days while burying their commitments at the establishment of them in its vital to shoulder the delay. There is a new sources. I reviewed at least one road will ensure its curative medicinal world. And, so has said that would say, this potential to know why. Generations of climate change is evolving a peaceful settlements. Each and allocation of the poor to take part of women, enthusiasm in this is no denial and let me that with me at the Ramayan trail in communicating and industry. It is the government upon just as the next ball and competitive index has given this occasion to make Fiji into setting up India's greatest leaders must remain today there is critical need for setting up one and stability. They offered India’s Constitution and easier to pass by saying on your resources. Be it represents Kutch or 50. We have taken sweeping change at the agenda and announcements. We will become famous Bhojpuri singer and dynamic mission in some senior citizens is because of Excellence in four million houses have to this village, and medium of our future. We can inspire you that those weapons. If you prefer;And, be offered India’s transformation of our stereotypes of about two years of 100 capacity to restore our governments are? The work as number of our commitment to the deepest appreciation and innovation. And due to your human resources. So, we can bring great change in trade has never severe limitations and science. Sushruta defines every young minds in India. We are the spiritual thoughts coming to come up the partnership and our youth here is growing; its national spirit animates India. The positive that is equivalent to announce 500 major step back we only who live in keeping gold rather than the Indian Studies show and medium industries. We are partners. Our Startups light of all try to declare June 21st century between people; it is an important role of over dinner last September to the time after the highest ever coal by Prince Vajiralongkorn in the results in renewable energy in the Indian citizen take this round of Capricorn. This athlete broke over two countries. Ladies and electricity to convert opportunities expand our family smoothly. And for urban areas such purposes. I believe you in defining partnership with exams are under some of things, it's eyes; Every Newborn Care Units (SNCUs) as both core of Shri Atal Bihari Vajpayeeji to note of subsidies are increasingly losing their future. We have merged the first standalone bilateral agreement on CISCO routers. The bilateral scope, there is how can see is a responsibility to organize this field. This includes high-tech sectors where 40 lakh without time he or India. Our BRICS Leaders of work culture, development accrue to realize that smaller or Lalita Pawar”. The visit to 4% growth, but the confirmation that we argue that in the fall short life, government were spoken eloquently about improving market for Gandhi ji’s time, offices at bringing them on some drawbacks and sisters have initiated a mother Goddess, who has always believed that I come alive with a way of modern economy. It has not allow more with you think logically, think about Yoga. I will be accomplished the result of MudraYojna. In this place. The wedding of the security is not mandatory to God bless you. #DELIMITER# 13 3 10 Lakhs of our relationship. The progress is my friend, and pride, to showcase their requirements. They have fewer challenges in India Visit His guidance regarding global industry and fulfil the regulations and easy governance, development of oceanic resources. As is our GDP by 2019 we have undertaken some farming towards the streets and communication channels on arrival facility for a relationship that preserves the strength from that we had said that works are well-known skills must speak in the garland flowers or medicines and I have witnessed another government should keep getting cleaned. You have noticed that this story that unites us in the period for leave. Initially they are representing the intention to 24% by day. It’s a strong character of Victoria, Friends, your cooperation, between terrorism at a common civilisational and I felt that I am receiving love and research in our minds, Indians wake up about this year 2004. You must establish it their children. I also but it for our tax payers was a neighboring country. The campaigns like to think that unite people’s participation, their selection through this scheme on the easiest Friends! Forests are blessed with Ayurveda is asked if your suggestions that these are living will continue, as Ayurveda festival. These can support and their rights. This will be useful opportunity and India. And, I warmly congratulate you on 26th January as Pushtuns, Tajiks, Hazaras. You all prosper in turn “Beti Bachao Beti bachao Beti padhao. We are entitled. Last year of international trading nations, both in areas of the government doesn’t show concrete outcome of the road has always there, moves to someone from the Asian Century. Asia of Government and stability is the basics: housing, healthcare,education and food on international norms of \"more crop and inbound state that the most of us. Now, no more than 300 foreign nationals, and skill development, to its side of the Smart Cities and prosperous state the strength of Dinkar Ji also listed in fifty million. Subsequently, we have embarked on poverty to reach to energy and an innovation and the road – I only this area. India is an earthen lamps will be holding Business Meet His observations while cutting the earliest. Many government has Free and India`s new possibilities. I want strategic priorities, including 104 women no doubt then I would make a topic is also a firm position one and we are talking about 38 crore Indians. And, the Chief Minister, then the Smart City where every field. If we have mobile applications. Iam deeply rooted in 2008. Since 2009, to isolate those people of human history, religion, and sisters, if required. Once again, your keel. Thank you think of fights, many as it with us? Whether the sentiments of support for us. This will be more and environment. The East Asia and sisters that the peaceful environment along the common interests. I want to be a single second. There cannot happen now. We are the primary focus is. We would like agriculture, agro-processing, environment, and held as his biography of Government, that we should be stronger they resonate loudly with ASEAN has a high volatility in areas which will be erected but the most prevalent; and, how was earlier law. But now reaching to each other part of over the strong and they made progress more Interceptor Coastguard boat brother” which includes the seas and speedy clearances for the farming but also continue till the rest; But, please spare time and environmental clearance; • Creating special emphasis on this great importance by a month to the familiar with its experience of Nepal, in various organizations is helping in advancing citizen of Government, let us down, the youth, the Declaration will be on a major economy ! It lives of the average turnaround of information technology. We have taken care of expansion and have acted with this. Through self-imposed discipline in the well as life may be eagerly to heartily congratulate you the strength of Kargil war against this law will be able to Mother India remained where every family. He should not visualize it is to encourage scientists also. Devesh from abroad who have committed to Swachh Bharat Mata Ki Baat.’ My own requirements, I see the development and strength of States. Indians are people have committed to move ahead of efficient use of this century. We will come to Google Guru Baba Saheb lived through excellent meetings – ancient wisdom to the world. In this reason, such dialogues in New approaches and twenty five years back. On the people. Now, we are peace, tolerance and effective. We have noticed that has done on bilateral foreign investments, information and also achieve success on those who should be good batsman anytime try to this country, but also the region’s promising signs of the decision as Bharuch in a game of the least possible to certain areas like a lot of 175 GW of words, “Contain all of the score very decisive steps forward. And he fought to share in capacity for insurance has certainly some might have already done in spending, efficiency in our civilisation. That is, today there is hard to make sure we plan to spit, his very interesting point of the strength to run without hope. Singapore’s relevance. For the Charaka Samhita urge of our cultures and conflicts, moving in our fiscal consolidation, a society and Astrakhan. President Kikwete that I say you on the weapons to promote the top of peace and twenty five sons, try to communication, entertainment channels. For this world. In India, including signals, and started the contemporary world. Today, the constitutional and trade. Our machines are second term. With this concern for spares and European Union Commission, Madam Speaker, The Mission in Silicon Valley. India, Premier Li to rise has been talks are in a chance to raise funds to bring cleanliness would be limited, the society and bring the correct intentions can proudly say something more. We wear different parts of development. I think it is clear. We in that. There can ignite the village should study, apple produce things give you can take the poor people have eased foreign employers with you. Your National Youth is the race has completed instantly with the freedom to do. We agree with me to diversify our non- fossil fuels. We also sought membership of public and vibrant. India and cyber security cooperation. 9. Space Conference, Delhi caught in itself so and 7000 rupees five year 1910, again like this. But with this field of the same way, but they like to benefit the momentum has done this date back then they were candid, constructive cooperation and have speeded up. 5) The western region and every sense. About bringing innovation to know and rise day challenges, how the Parliament is not be very pleased to all eight states which we have said that I attach the world, it is not get per the path to empower states in our shared challenges are many thoughts. Then, I know about saving citizens working to further inclusion. Our mothers and said,” What we have begun a stable and Type 2. We need to change has to the success will speak in the Hannover (5) It is India`s Eastern Council provides and security of the birds. Friends, In the theme song of the others, but in a place and I am pleased to that our nation. As our efforts in such heritage. Indian companies. Some people from every individual. And, your convenience, in each other's success. Our mothers, Sisters and the goodwill and technology which is still need of discretion of 15th August 2015 should be saved. We have the full pitcher or health care, for if we are committed 7.4 billion rupees to flee from Marakesh to visit to commemorate the balance of science, brothers and sisters on 22nd June and Mahabharata and people of quality products, but also widened our government. One, I would conclude a small and Jewellery जहां पर किसी भारतीय की दो समस्याएं हैं - from terrorism. The soldier wants to be the country will be countless occasions, we have awarded was waiting for which is now we applaud …India applauds, the Asia-Pacific region will start competing objectives. This has been linked Asia is the issues which would not pronounce his drafting of the opportunity to be made a vast prospects. Today, Kazakhstan is good. Whatever we will have also follow our people. Your contribution towards the International Conference Seoul Press Statements (9) We have expressed love for investments and sustainable. We like to install a path of governance and enhancing rice and good houses in the Government does not receive Rs.50 per cent since yesterday which include the Nobel Laureates and lead the starting a policy relationship with Asia, to speak of India’s highest importance to store personal leadership on the damage and holistic health sector. The river and Spiritual and answered online services, we both conventional threat to 42 per drop\" will be assured Prime Minister: My advice Sachin Tendulkar. I urge you to work together globally. We want to focus areas such conversation. But let me as integral to take pride that genuine global challenges– development to stronger they will grow crops efficiently, in this is rain that will find that I feel proud to be an important to claim citizens of the country, to tourists, in the sake of Mann Ki Baat on intelligence or the FDI destination. It was that in governance is obvious: Diversity is central role in general, as pollution. For this topic of new ways to happiness in the balcony or power terms. Putting even brighter. I am pleased to its dreams will also to our current pace. This increases by reading it a live a decade, our investments can once again would like this, we know then the world full stomach, you have something around three times in your own light, dissolve the only an unending list yet, while working together globally. We are at the BRICS. We have launched various dimensions, mould Kenya's benefit. Excellency, we call to become the organization for our timeless wisdom. And, our defence and as a lifestyle. When I wish to back to technology into an appropriate balance sheet that your child. And you to advance peace and Prof. K.S. Rangappa, Nobel Laureates and its message to excel and their mentor and potential, understand the aim to provide employment opportunities for the guidelines on international law can get overwhelmed. It has also refined our strengths, and in the villages who thought of democracy. This is the law which increase the Gateway to sleep on killing the Sufi Khanqahs. Sufism’s contribution of history. And after entering office, we create this vision of this happens, in public is equivalent to broadcast this quiet revolution in the biggest dream. The security cooperation in India we made provisions for workers and told that could not just as a vertical expansion and practical cooperation. I also our procurement policies and IT. 7. He also congratulate all Central and destructive force leads to be an additional momentum is an elderly artisan from outside. To upgrade existing diplomatic relations. Many of सह अस्तित्व will gain new ideas and will also greatly respect and international sports university. This is sold globally, nine have been able to stand together our top-level political and confident and as I am pleased to move with their lives behind bars. Many of the DNA of the services to take the issues in lakhs. This is through a growth and administrative systems of their ability and this generation. If there is a more broadly in our country and it and Metro rail in the Members of your daughter sacrifices made up an impression, have introduced a person. It calls it was being modernized. New Development Authority has work. Quick and families. Tell me to settle down the 125 crore countrymen? Will still remains the cities. We will also proposes to increase in Paris, President that the ex-Prime Ministers of others. I are connected with it. Terrorism is a better say that, Foreign Income Tax Department of natural and the strength from it. In three days back to developing countries, representatives of humanity. This is not receive the poor widow lady who were honoured us have modified this 726 mega watt power could stand together on the large-heartedness of people are not have embarked on my heartiest congratulations once again bow to sustain prosperity in remote shores and warmth. It stems from the end, it is part of his exams. This is easier access to do this scheme. They would need a future of economic development process and projects worth all those parameters, each other's interests; and power capacity but also jumped 16 7 2014, India will be refunded the issues of tea seller or a mutually beneficial. I want the knowledge has very rich as well. No liberation is precious. A successful in India advocates reforms are not look for election slogan. This is vital and also suggests that India and targets and is particularly Women now feel happy to the New Age India extends everywhere. It requires simplification has improved our Akashvani because of life. We must also for girls. We must take this great pleasure in hand, Indian investments in the Head of UN Comprehensive Convention Mr President, your hour or Buddhists or not? Thus, just on November 30 years. I thank the teacher did not be collected in Mongolia, Your life of human resources wisely. It can expand our personal journey of Fiji\", Ours is a lead to work of my visit, especially because they plant trees; if such psychologist till the nation of Russia will change. This simple words, you will be among them all. This pilferage of humanity. I repeat this country forward to secure your success of illness that all around 50 then we may add fresh funding from it. It will spur cooperation in normal backgrounds who give both countries. Tanzania Excellency Prime Minister Life Insurance and rely on Substance than what an environment of ‘Vasudhaiva Kutumbakam’, the course of the first bilateral trade imbalance, despite the pace compared with us have agreed that is the country and on. Today, we will be equally important decision to press breifing with the Prime Minister of boundless possibilities of articles at the world wants to use the banking to proper procedure simple for three Ds of cleaning system suited to launch of the Constitution rests on the East. The belief in religion; or the relationship. And, the seeds of Gujarat which we could be beneficial for one year alone, I am blessed with natural gas cylinder, till 2022. In October this around 25% in the lower ranks? Someone talks about cleanliness, while Mandana Mishra, a child wishes for successfully come out to that, and age being totally capable yet another big program is 12%. Indian scientists and the mean merely announced new locomotive that when the fruit is why the same time, the rating of 12 3 Anti Tank Guns were so inspiring environment. Some of Faith. We need a free capability. I am conscious of prosperity. Mr. Kim Young-Suk who knows TB was built by December 2015. Similarly, the last 2 2 2016, India is called for protection of Vijay Jindal writes beautifully as proud of the Minister and nepotism. Tell them so must also suggested that it just on this and\n"
     ]
    }
   ],
   "source": [
    "print(' '.join(chain))"
   ]
  },
  {
   "cell_type": "code",
   "execution_count": null,
   "metadata": {},
   "outputs": [],
   "source": []
  }
 ],
 "metadata": {
  "kernelspec": {
   "display_name": "Python 3",
   "language": "python",
   "name": "python3"
  },
  "language_info": {
   "codemirror_mode": {
    "name": "ipython",
    "version": 3
   },
   "file_extension": ".py",
   "mimetype": "text/x-python",
   "name": "python",
   "nbconvert_exporter": "python",
   "pygments_lexer": "ipython3",
   "version": "3.7.4"
  }
 },
 "nbformat": 4,
 "nbformat_minor": 4
}
